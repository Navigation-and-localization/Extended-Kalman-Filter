{
 "cells": [
  {
   "cell_type": "code",
   "execution_count": 1,
   "metadata": {},
   "outputs": [
    {
     "name": "stdout",
     "output_type": "stream",
     "text": [
      "importing Jupyter notebook from tools.ipynb\n"
     ]
    }
   ],
   "source": [
    "import import_ipynb\n",
    "from tools import polar_to_cartesian\n",
    "import copy\n",
    "\n",
    "class DataPoint:\n",
    "  \"\"\"\n",
    "    A set of derived information from measurements of known sensors\n",
    "    NOTE: Upon instantiation of a \"radar\" DataPoint, state variables are computed from raw data \n",
    "  \"\"\"\n",
    "    \n",
    "  def __init__(self, d):\n",
    "    self.timestamp = d['timestamp']\n",
    "    self.name = d['name']\n",
    "    self.all = d\n",
    "    self.raw = []\n",
    "    self.data = []\n",
    "    \n",
    "    if self.name == 'state':\n",
    "      self.data = [d['x'], d['y'], d['vx'], d['vy']]\n",
    "      self.raw = copy.deepcopy(self.data)\n",
    "    \n",
    "    elif self.name == 'lidar':\n",
    "      self.data = [d['x'], d['y'], 0, 0]\n",
    "      self.raw = [d['x'], d['y']]\n",
    "                  \n",
    "    elif self.name == 'radar':\n",
    "      x, y, vx, vy = polar_to_cartesian(d['rho'], d['phi'], d['drho'])\n",
    "      self.data = [x, y, vx, vy]\n",
    "      self.raw = [d['rho'], d['phi'], d['drho']]\n",
    "    \n",
    "    self.all['processed_data'] = self.data\n",
    "    self.all['raw'] = self.raw\n",
    "    \n",
    "  def get_dict(self):\n",
    "    return self.all\n",
    "\n",
    "  def get_raw(self):\n",
    "    return self.raw\n",
    "\n",
    "  def get(self):\n",
    "    return self.data\n",
    "\n",
    "  def get_timestamp(self):\n",
    "    return self.timestamp\n",
    "\n",
    "  def get_name(self):\n",
    "    return self.name"
   ]
  },
  {
   "cell_type": "code",
   "execution_count": null,
   "metadata": {},
   "outputs": [],
   "source": []
  }
 ],
 "metadata": {
  "kernelspec": {
   "display_name": "Python 3",
   "language": "python",
   "name": "python3"
  },
  "language_info": {
   "codemirror_mode": {
    "name": "ipython",
    "version": 3
   },
   "file_extension": ".py",
   "mimetype": "text/x-python",
   "name": "python",
   "nbconvert_exporter": "python",
   "pygments_lexer": "ipython3",
   "version": "3.8.3"
  }
 },
 "nbformat": 4,
 "nbformat_minor": 4
}
