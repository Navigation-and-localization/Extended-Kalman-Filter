{
 "cells": [
  {
   "cell_type": "code",
   "execution_count": 3,
   "metadata": {},
   "outputs": [],
   "source": [
    "import numpy as np\n",
    "\n",
    "class KF():\n",
    "    def __init__(self,n):\n",
    "        self.n = n\n",
    "        self.I = np.matrix(np.eye(n))\n",
    "        self.x = None\n",
    "        self.P = None\n",
    "        self.F = None\n",
    "        self.Q = None\n",
    "\n",
    "    def predict(self):\n",
    "        self.x = self.F * self.x\n",
    "        self.P = self.F * self.P * self.F.T + self.Q\n",
    "\n",
    "    def update(self, z, H, Hx, R):\n",
    "        y = z - Hx\n",
    "        PHt = self.P * H.T\n",
    "        S = H * PHt + R    \n",
    "        K = PHt * (S.I)\n",
    "\n",
    "        self.x = self.x + K * y\n",
    "        self.P = (self.I - K * H) * self.P\n"
   ]
  },
  {
   "cell_type": "code",
   "execution_count": null,
   "metadata": {},
   "outputs": [],
   "source": []
  }
 ],
 "metadata": {
  "kernelspec": {
   "display_name": "Python 3",
   "language": "python",
   "name": "python3"
  },
  "language_info": {
   "codemirror_mode": {
    "name": "ipython",
    "version": 3
   },
   "file_extension": ".py",
   "mimetype": "text/x-python",
   "name": "python",
   "nbconvert_exporter": "python",
   "pygments_lexer": "ipython3",
   "version": "3.8.3"
  }
 },
 "nbformat": 4,
 "nbformat_minor": 4
}
